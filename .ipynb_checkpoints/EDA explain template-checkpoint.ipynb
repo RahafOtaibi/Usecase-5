{
 "cells": [
  {
   "cell_type": "code",
   "execution_count": 3,
   "id": "e69c4ba1-85f3-4a02-ae37-c64347a01803",
   "metadata": {},
   "outputs": [],
   "source": [
    "#Import all relevant libraries\n",
    "import numpy as np\n",
    "import pandas as pd\n",
    "import matplotlib.pyplot as plt\n",
    "import seaborn as sns\n",
    "from scipy.stats import zscore\n",
    "import dtale\n",
    "import sweetviz as sv\n",
    "## This statement allows the visuals to render within your Jupyter Notebook.\n",
    "%matplotlib inline"
   ]
  },
  {
   "cell_type": "markdown",
   "id": "e395e8bf-b530-4720-8d0f-26811e927d6e",
   "metadata": {},
   "source": [
    "## Loading the data\n",
    "We can now load the dataset into pandas using the read_csv() function. This converts the CSV file into a Pandas dataframe."
   ]
  },
  {
   "cell_type": "code",
   "execution_count": 28,
   "id": "bfde0b69-613c-4dd1-8ebf-e4d2e570e653",
   "metadata": {},
   "outputs": [],
   "source": [
    "job_posts = pd.read_csv(\"Data/Jadarat_data.csv\")"
   ]
  },
  {
   "cell_type": "markdown",
   "id": "ca5ed983-0f72-43eb-8168-6fafd48c562e",
   "metadata": {},
   "source": [
    "### Viewing the dataframe\n",
    "We can get a quick sense of the size of our dataset by using the shape method. This returns a tuple with the number of rows and columns in the dataset."
   ]
  },
  {
   "cell_type": "code",
   "execution_count": 30,
   "id": "d9e1b00c-b3e2-4d5a-a7fc-a499e6979198",
   "metadata": {},
   "outputs": [
    {
     "data": {
      "text/plain": [
       "(1470, 18)"
      ]
     },
     "execution_count": 30,
     "metadata": {},
     "output_type": "execute_result"
    }
   ],
   "source": [
    "job_posts.shape"
   ]
  },
  {
   "cell_type": "code",
   "execution_count": 32,
   "id": "9f3300de-4b2b-4051-9428-a7e1600412fa",
   "metadata": {},
   "outputs": [
    {
     "data": {
      "text/html": [
       "\n",
       "        <iframe\n",
       "            width=\"100%\"\n",
       "            height=\"475\"\n",
       "            src=\"http://LAPTOP-8L6R58JJ:40000/dtale/iframe/3\"\n",
       "            frameborder=\"0\"\n",
       "            allowfullscreen\n",
       "            \n",
       "        ></iframe>\n",
       "        "
      ],
      "text/plain": [
       "<IPython.lib.display.IFrame at 0x274ae087e90>"
      ]
     },
     "metadata": {},
     "output_type": "display_data"
    },
    {
     "data": {
      "text/plain": []
     },
     "execution_count": 32,
     "metadata": {},
     "output_type": "execute_result"
    }
   ],
   "source": [
    "job_posts_report = dtale.show(job_posts)\n",
    "job_posts_report"
   ]
  },
  {
   "cell_type": "markdown",
   "id": "bd2b5bc4-db37-4432-b666-0714afd0c4ca",
   "metadata": {},
   "source": [
    "## 1. Data Profiling:\n",
    "Data profiling is a comprehensive process of examining the data available in an existing dataset and collecting statistics and information about that data. "
   ]
  },
  {
   "cell_type": "code",
   "execution_count": 34,
   "id": "672f2081-5a2c-4908-8cbd-29519fb3cac5",
   "metadata": {},
   "outputs": [
    {
     "data": {
      "text/html": [
       "<div>\n",
       "<style scoped>\n",
       "    .dataframe tbody tr th:only-of-type {\n",
       "        vertical-align: middle;\n",
       "    }\n",
       "\n",
       "    .dataframe tbody tr th {\n",
       "        vertical-align: top;\n",
       "    }\n",
       "\n",
       "    .dataframe thead th {\n",
       "        text-align: right;\n",
       "    }\n",
       "</style>\n",
       "<table border=\"1\" class=\"dataframe\">\n",
       "  <thead>\n",
       "    <tr style=\"text-align: right;\">\n",
       "      <th></th>\n",
       "      <th>job_title</th>\n",
       "      <th>job_date</th>\n",
       "      <th>job_desc</th>\n",
       "      <th>job_tasks</th>\n",
       "      <th>comp_name</th>\n",
       "      <th>comp_no</th>\n",
       "      <th>comp_type</th>\n",
       "      <th>comp_size</th>\n",
       "      <th>eco_activity</th>\n",
       "      <th>qualif</th>\n",
       "      <th>region</th>\n",
       "      <th>city</th>\n",
       "      <th>benefits</th>\n",
       "      <th>contract</th>\n",
       "      <th>positions</th>\n",
       "      <th>job_post_id</th>\n",
       "      <th>exper</th>\n",
       "      <th>gender</th>\n",
       "    </tr>\n",
       "  </thead>\n",
       "  <tbody>\n",
       "    <tr>\n",
       "      <th>0</th>\n",
       "      <td>محاسب</td>\n",
       "      <td>27/05/1444</td>\n",
       "      <td>['إعداد وتنظيم مستندات الصرف ومتابعة تحصيل الإ...</td>\n",
       "      <td>['   تدقيق المطالبات المالية والتأكد من اكتمال...</td>\n",
       "      <td>شركة مقر العالم للسفريات</td>\n",
       "      <td>1-317262</td>\n",
       "      <td>خاص</td>\n",
       "      <td>متوسطة فئة أ</td>\n",
       "      <td>أنشطة وكالات السياحة والسفر</td>\n",
       "      <td>['Language data', 'اللغة الانجليزية', 'محترف']</td>\n",
       "      <td>الرياض</td>\n",
       "      <td>AR RIYADH...</td>\n",
       "      <td>['Salary', '5000.0']</td>\n",
       "      <td>دوام كامل</td>\n",
       "      <td>0 / 1</td>\n",
       "      <td>20202026350419</td>\n",
       "      <td>0 Years</td>\n",
       "      <td>both</td>\n",
       "    </tr>\n",
       "    <tr>\n",
       "      <th>1</th>\n",
       "      <td>بائع</td>\n",
       "      <td>27/05/1444</td>\n",
       "      <td>['بيع مجموعة من السلع والخدمات للعملاء، وتوفير...</td>\n",
       "      <td>['   بيع مجموعة من السلع والخدمات للعملاء.', '...</td>\n",
       "      <td>شركة عالم الكهرباء للمقاولات</td>\n",
       "      <td>4-1324428</td>\n",
       "      <td>خاص</td>\n",
       "      <td>متوسطة فئة ب</td>\n",
       "      <td>تركيب انظمة التبريد وتكييف الهواء وصيانتها واص...</td>\n",
       "      <td>NaN</td>\n",
       "      <td>المنطقة الشرقية</td>\n",
       "      <td>AD DAMMAM...</td>\n",
       "      <td>['Salary', '5000.0']</td>\n",
       "      <td>دوام كامل</td>\n",
       "      <td>0 / 3</td>\n",
       "      <td>20202026350389</td>\n",
       "      <td>0 Years</td>\n",
       "      <td>both</td>\n",
       "    </tr>\n",
       "    <tr>\n",
       "      <th>2</th>\n",
       "      <td>أخصائي عمليات موارد بشرية</td>\n",
       "      <td>27/05/1444</td>\n",
       "      <td>['تنفيذ الإجراءات والأنظمة والنماذج الخاصة بمر...</td>\n",
       "      <td>['   تنفيذ الإجراءات والأنظمة والنماذج الخاصة ...</td>\n",
       "      <td>شركه دار السلام</td>\n",
       "      <td>1-155294</td>\n",
       "      <td>خاص</td>\n",
       "      <td>متوسطة فئة أ</td>\n",
       "      <td>ترميمات المباني السكنية والغير سكنية</td>\n",
       "      <td>['Language data', 'الانجليزيه', 'محترف']</td>\n",
       "      <td>الرياض</td>\n",
       "      <td>ATH THUMA...</td>\n",
       "      <td>['Salary', '4000.0']</td>\n",
       "      <td>دوام كامل</td>\n",
       "      <td>0 / 2</td>\n",
       "      <td>20202026350347</td>\n",
       "      <td>2 Years</td>\n",
       "      <td>both</td>\n",
       "    </tr>\n",
       "    <tr>\n",
       "      <th>3</th>\n",
       "      <td>ميكانيكي سيارات</td>\n",
       "      <td>27/05/1444</td>\n",
       "      <td>['تشخيص أعطال السيارات وإصلاحها وتنفيذ برامج ا...</td>\n",
       "      <td>['   فحص أداء المعدّات الكهربائية والميكانيكية...</td>\n",
       "      <td>مؤسسة لمكو لغيار الزيوت</td>\n",
       "      <td>8-1925495</td>\n",
       "      <td>خاص</td>\n",
       "      <td>صغيرة فئة ب</td>\n",
       "      <td>NaN</td>\n",
       "      <td>['Skill data', 'صيانة السيارات وتقييم الاعطال'...</td>\n",
       "      <td>المنطقة الشرقية</td>\n",
       "      <td>AL HUFUF...</td>\n",
       "      <td>['Salary', '5000.0']</td>\n",
       "      <td>دوام كامل</td>\n",
       "      <td>0 / 10</td>\n",
       "      <td>20202026350219</td>\n",
       "      <td>0 Years</td>\n",
       "      <td>M</td>\n",
       "    </tr>\n",
       "    <tr>\n",
       "      <th>4</th>\n",
       "      <td>محاسب</td>\n",
       "      <td>27/05/1444</td>\n",
       "      <td>['إعداد وتنظيم مستندات الصرف ومتابعة تحصيل الإ...</td>\n",
       "      <td>['   تدقيق المطالبات المالية والتأكد من اكتمال...</td>\n",
       "      <td>مؤسسة فكرة اليمامة للمقاولات</td>\n",
       "      <td>1-2356639</td>\n",
       "      <td>خاص</td>\n",
       "      <td>كبيرة</td>\n",
       "      <td>الإنشاءات العامة للمباني السكنية</td>\n",
       "      <td>['Skill data', 'تحمل ضغط العمل', 'محترف', 'Lan...</td>\n",
       "      <td>الرياض</td>\n",
       "      <td>AR RIYADH...</td>\n",
       "      <td>['Salary', '5000.0']</td>\n",
       "      <td>دوام كامل</td>\n",
       "      <td>0 / 1</td>\n",
       "      <td>20202026350043</td>\n",
       "      <td>0 Years</td>\n",
       "      <td>both</td>\n",
       "    </tr>\n",
       "  </tbody>\n",
       "</table>\n",
       "</div>"
      ],
      "text/plain": [
       "                   job_title    job_date  \\\n",
       "0                      محاسب  27/05/1444   \n",
       "1                       بائع  27/05/1444   \n",
       "2  أخصائي عمليات موارد بشرية  27/05/1444   \n",
       "3            ميكانيكي سيارات  27/05/1444   \n",
       "4                      محاسب  27/05/1444   \n",
       "\n",
       "                                            job_desc  \\\n",
       "0  ['إعداد وتنظيم مستندات الصرف ومتابعة تحصيل الإ...   \n",
       "1  ['بيع مجموعة من السلع والخدمات للعملاء، وتوفير...   \n",
       "2  ['تنفيذ الإجراءات والأنظمة والنماذج الخاصة بمر...   \n",
       "3  ['تشخيص أعطال السيارات وإصلاحها وتنفيذ برامج ا...   \n",
       "4  ['إعداد وتنظيم مستندات الصرف ومتابعة تحصيل الإ...   \n",
       "\n",
       "                                           job_tasks  \\\n",
       "0  ['   تدقيق المطالبات المالية والتأكد من اكتمال...   \n",
       "1  ['   بيع مجموعة من السلع والخدمات للعملاء.', '...   \n",
       "2  ['   تنفيذ الإجراءات والأنظمة والنماذج الخاصة ...   \n",
       "3  ['   فحص أداء المعدّات الكهربائية والميكانيكية...   \n",
       "4  ['   تدقيق المطالبات المالية والتأكد من اكتمال...   \n",
       "\n",
       "                      comp_name    comp_no comp_type     comp_size  \\\n",
       "0      شركة مقر العالم للسفريات   1-317262       خاص  متوسطة فئة أ   \n",
       "1  شركة عالم الكهرباء للمقاولات  4-1324428       خاص  متوسطة فئة ب   \n",
       "2               شركه دار السلام   1-155294       خاص  متوسطة فئة أ   \n",
       "3       مؤسسة لمكو لغيار الزيوت  8-1925495       خاص   صغيرة فئة ب   \n",
       "4  مؤسسة فكرة اليمامة للمقاولات  1-2356639       خاص         كبيرة   \n",
       "\n",
       "                                        eco_activity  \\\n",
       "0                        أنشطة وكالات السياحة والسفر   \n",
       "1  تركيب انظمة التبريد وتكييف الهواء وصيانتها واص...   \n",
       "2               ترميمات المباني السكنية والغير سكنية   \n",
       "3                                                NaN   \n",
       "4                   الإنشاءات العامة للمباني السكنية   \n",
       "\n",
       "                                              qualif           region  \\\n",
       "0     ['Language data', 'اللغة الانجليزية', 'محترف']           الرياض   \n",
       "1                                                NaN  المنطقة الشرقية   \n",
       "2           ['Language data', 'الانجليزيه', 'محترف']           الرياض   \n",
       "3  ['Skill data', 'صيانة السيارات وتقييم الاعطال'...  المنطقة الشرقية   \n",
       "4  ['Skill data', 'تحمل ضغط العمل', 'محترف', 'Lan...           الرياض   \n",
       "\n",
       "           city              benefits   contract positions     job_post_id  \\\n",
       "0  AR RIYADH...  ['Salary', '5000.0']  دوام كامل     0 / 1  20202026350419   \n",
       "1  AD DAMMAM...  ['Salary', '5000.0']  دوام كامل     0 / 3  20202026350389   \n",
       "2  ATH THUMA...  ['Salary', '4000.0']  دوام كامل     0 / 2  20202026350347   \n",
       "3   AL HUFUF...  ['Salary', '5000.0']  دوام كامل    0 / 10  20202026350219   \n",
       "4  AR RIYADH...  ['Salary', '5000.0']  دوام كامل     0 / 1  20202026350043   \n",
       "\n",
       "     exper gender  \n",
       "0  0 Years   both  \n",
       "1  0 Years   both  \n",
       "2  2 Years   both  \n",
       "3  0 Years      M  \n",
       "4  0 Years   both  "
      ]
     },
     "execution_count": 34,
     "metadata": {},
     "output_type": "execute_result"
    }
   ],
   "source": [
    "job_posts.head()"
   ]
  },
  {
   "cell_type": "markdown",
   "id": "834929aa-fd6a-4ec5-84d4-77c4b3c1a506",
   "metadata": {},
   "source": [
    "The process of profiling differs slightly for categorical and numerical variables due to their inherent differences.\n",
    "\n",
    "**The two main types of data are:**\n",
    "- Quantitative (numerical) data\n",
    "- Qualitative (categorical) data"
   ]
  },
  {
   "cell_type": "markdown",
   "id": "3a9954f5-6fbc-45b4-ad86-3e21b6e0ca2d",
   "metadata": {},
   "source": [
    "### Data Quality Checks\n",
    "Data quality checks involve the process of ensuring that the data is accurate, complete, consistent, relevant, and reliable. \n",
    "\n",
    "\n",
    "**Here are typical steps involved in checking data quality:**"
   ]
  },
  {
   "cell_type": "markdown",
   "id": "4818c876-173d-4e56-9e7d-b4334d2def25",
   "metadata": {},
   "source": [
    "#### 1. Reliability:\n",
    "Evaluate the data's source and collection process to determine its trustworthiness."
   ]
  },
  {
   "cell_type": "code",
   "execution_count": 58,
   "id": "9034ae7b-dc1d-4cba-8f9e-bb499d021cde",
   "metadata": {},
   "outputs": [],
   "source": [
    "# The data is considered reliable since it's sourced from Kaggle 'https://www.kaggle.com/datasets/moayadalkhozayem/job-postings-in-saudi-arabia'\n",
    "# Also it was collected by \"Jadarat\" which is the name of Saudi Arabia's Unified National Employment Platform, accessible at \"Jadarat.sa.\"\n",
    "# This platform aims to connect Saudi job seekers with employment opportunities in both the public and private sectors, streamlining the job search and recruitment process. "
   ]
  },
  {
   "cell_type": "markdown",
   "id": "2ce0cc59-8c92-4acc-8d07-c40764e1a86b",
   "metadata": {},
   "source": [
    "#### 2. Timeliness: \n",
    "Ensure the data is up-to-date and reflective of the current situation or the period of interest for the analysis."
   ]
  },
  {
   "cell_type": "code",
   "execution_count": null,
   "id": "4b78ae35-7226-4cb6-b8b2-a46c2ed17cf9",
   "metadata": {},
   "outputs": [],
   "source": [
    "# The data was posted in 2023, but since the time period isn't taken into consideration in any of the questions, sticking with what the business provided is the best choice :) "
   ]
  },
  {
   "cell_type": "markdown",
   "id": "7fab0fe2-6624-4615-b9d8-3c3669056bf8",
   "metadata": {},
   "source": [
    "#### 3. Consistency: \n",
    "\n",
    "Confirm that the data is consistent within the dataset and across multiple data sources. For example, the same data point should not have different values in different places.\n"
   ]
  },
  {
   "cell_type": "code",
   "execution_count": 59,
   "id": "7fecc573-959f-4800-8ddd-a67985c68b18",
   "metadata": {},
   "outputs": [],
   "source": [
    "# We are dealing with only one dataset so it's consistent"
   ]
  },
  {
   "cell_type": "markdown",
   "id": "bec3d183-bba0-4b12-b963-487daab1e876",
   "metadata": {},
   "source": [
    "#### 4. Relevance: \n",
    "Assess whether the data is appropriate and applicable for the intended analysis. Data that is not relevant can skew results and lead to incorrect conclusions.\n",
    "\n",
    "**Key considerations for relevance include:**\n",
    "\n",
    "> 1. Sample Appropriateness: Confirm that your data sample aligns with your analysis objectives. For instance, utilizing data from the Northern region will not yield accurate insights for the Western region of the Kingdom.\n",
    ">\n",
    "> 2. Variable Selection: Any column will not be relevant for our analysis, we can get rid of these using the drop() method. We will set the “axis” argument to 1 since we’re dealing with columns, and set the “inplace” argument to True to make the change permanent.\n"
   ]
  },
  {
   "cell_type": "code",
   "execution_count": null,
   "id": "50a934b7-a0cd-443f-8a27-f10e9a6e8647",
   "metadata": {
    "scrolled": true
   },
   "outputs": [],
   "source": [
    "# The sample is relevant because it includes job postings from Saudi Arabia, covering different regions and industries, making it suitable for analyzing the employment landscape.  \n",
    "\n",
    "# The variables are relevant as the job location, gender preference, salary, and experience requirements, are included which directly align with the problem statement"
   ]
  },
  {
   "cell_type": "markdown",
   "id": "0f5e3a2a-bbb7-4d06-8220-c93277b70146",
   "metadata": {},
   "source": [
    "#### 5. Uniqueness: \n",
    "Check for and remove duplicate records to prevent skewed analysis results.\n"
   ]
  },
  {
   "cell_type": "code",
   "execution_count": 38,
   "id": "44f87319-6891-4ae4-8693-fe0b57bace6b",
   "metadata": {},
   "outputs": [
    {
     "data": {
      "text/plain": [
       "Index(['job_title', 'job_date', 'job_desc', 'job_tasks', 'comp_name',\n",
       "       'comp_no', 'comp_type', 'comp_size', 'eco_activity', 'qualif', 'region',\n",
       "       'city', 'benefits', 'contract', 'positions', 'job_post_id', 'exper',\n",
       "       'gender'],\n",
       "      dtype='object')"
      ]
     },
     "execution_count": 38,
     "metadata": {},
     "output_type": "execute_result"
    }
   ],
   "source": [
    "job_posts.columns"
   ]
  },
  {
   "cell_type": "code",
   "execution_count": 48,
   "id": "a509a7aa-58f4-4d39-8eb8-e8298a21f2a7",
   "metadata": {},
   "outputs": [
    {
     "data": {
      "text/plain": [
       "(173, 18)"
      ]
     },
     "execution_count": 48,
     "metadata": {},
     "output_type": "execute_result"
    }
   ],
   "source": [
    "dups = job_posts[job_posts['job_post_id'].duplicated(keep=False)]\n",
    "dups_view=dtale.show(dups)\n",
    "dups.shape"
   ]
  },
  {
   "cell_type": "code",
   "execution_count": 49,
   "id": "e454122d-a1b8-4817-86c2-1de2c2628485",
   "metadata": {},
   "outputs": [
    {
     "data": {
      "text/html": [
       "\n",
       "        <iframe\n",
       "            width=\"100%\"\n",
       "            height=\"475\"\n",
       "            src=\"http://LAPTOP-8L6R58JJ:40000/dtale/iframe/6\"\n",
       "            frameborder=\"0\"\n",
       "            allowfullscreen\n",
       "            \n",
       "        ></iframe>\n",
       "        "
      ],
      "text/plain": [
       "<IPython.lib.display.IFrame at 0x274ae087e90>"
      ]
     },
     "metadata": {},
     "output_type": "display_data"
    },
    {
     "data": {
      "text/plain": []
     },
     "execution_count": 49,
     "metadata": {},
     "output_type": "execute_result"
    }
   ],
   "source": [
    "dups_view"
   ]
  },
  {
   "cell_type": "code",
   "execution_count": 64,
   "id": "6fe58cdc-655a-44f0-8323-67db5470e5f1",
   "metadata": {},
   "outputs": [
    {
     "data": {
      "text/html": [
       "<div>\n",
       "<style scoped>\n",
       "    .dataframe tbody tr th:only-of-type {\n",
       "        vertical-align: middle;\n",
       "    }\n",
       "\n",
       "    .dataframe tbody tr th {\n",
       "        vertical-align: top;\n",
       "    }\n",
       "\n",
       "    .dataframe thead th {\n",
       "        text-align: right;\n",
       "    }\n",
       "</style>\n",
       "<table border=\"1\" class=\"dataframe\">\n",
       "  <thead>\n",
       "    <tr style=\"text-align: right;\">\n",
       "      <th></th>\n",
       "      <th>job_title</th>\n",
       "      <th>job_date</th>\n",
       "      <th>job_desc</th>\n",
       "      <th>job_tasks</th>\n",
       "      <th>comp_name</th>\n",
       "      <th>comp_no</th>\n",
       "      <th>comp_type</th>\n",
       "      <th>comp_size</th>\n",
       "      <th>eco_activity</th>\n",
       "      <th>qualif</th>\n",
       "      <th>region</th>\n",
       "      <th>city</th>\n",
       "      <th>benefits</th>\n",
       "      <th>contract</th>\n",
       "      <th>positions</th>\n",
       "      <th>job_post_id</th>\n",
       "      <th>exper</th>\n",
       "      <th>gender</th>\n",
       "    </tr>\n",
       "  </thead>\n",
       "  <tbody>\n",
       "    <tr>\n",
       "      <th>867</th>\n",
       "      <td>أخصائي علاج طبيعي</td>\n",
       "      <td>05/06/1444</td>\n",
       "      <td>['دراسة وتحليل الحالة المرضية ووضع خطة وبرنامج...</td>\n",
       "      <td>['   دراسة وتحليل برنامج المعالجة الطبيعية الم...</td>\n",
       "      <td>مركز رضوى للحجامة</td>\n",
       "      <td>14-1709089</td>\n",
       "      <td>خاص</td>\n",
       "      <td>صغيرة فئة أ</td>\n",
       "      <td>الخدمات الطبية بالمصحات المتخصصة ومراكز إعادة ...</td>\n",
       "      <td>NaN</td>\n",
       "      <td>المدينة المنورة</td>\n",
       "      <td>YANBU AL ...</td>\n",
       "      <td>['Salary', '5000.0']</td>\n",
       "      <td>دوام كامل</td>\n",
       "      <td>0 / 3</td>\n",
       "      <td>20202026375503</td>\n",
       "      <td>0 Years</td>\n",
       "      <td>both</td>\n",
       "    </tr>\n",
       "    <tr>\n",
       "      <th>911</th>\n",
       "      <td>أخصائي علاج طبيعي</td>\n",
       "      <td>Publish date</td>\n",
       "      <td>['دراسة وتحليل الحالة المرضية ووضع خطة وبرنامج...</td>\n",
       "      <td>['   دراسة وتحليل برنامج المعالجة الطبيعية الم...</td>\n",
       "      <td>مركز رضوى للحجامة</td>\n",
       "      <td>14-1709089</td>\n",
       "      <td>خاص</td>\n",
       "      <td>صغيرة فئة أ</td>\n",
       "      <td>الخدمات الطبية بالمصحات المتخصصة ومراكز إعادة ...</td>\n",
       "      <td>NaN</td>\n",
       "      <td>المدينة المنورة</td>\n",
       "      <td>YANBU AL ...</td>\n",
       "      <td>['Salary', '5000.0']</td>\n",
       "      <td>دوام كامل</td>\n",
       "      <td>0 / 3</td>\n",
       "      <td>20202026375503</td>\n",
       "      <td>0 Years</td>\n",
       "      <td>both</td>\n",
       "    </tr>\n",
       "    <tr>\n",
       "      <th>1152</th>\n",
       "      <td>أخصائي علاج طبيعي</td>\n",
       "      <td>05/06/1444</td>\n",
       "      <td>['دراسة وتحليل الحالة المرضية ووضع خطة وبرنامج...</td>\n",
       "      <td>['   دراسة وتحليل برنامج المعالجة الطبيعية الم...</td>\n",
       "      <td>مركز رضوى للحجامة</td>\n",
       "      <td>14-1709089</td>\n",
       "      <td>خاص</td>\n",
       "      <td>صغيرة فئة ب</td>\n",
       "      <td>الخدمات الطبية بالمصحات المتخصصة ومراكز إعادة ...</td>\n",
       "      <td>NaN</td>\n",
       "      <td>المدينة المنورة</td>\n",
       "      <td>YANBU AL ...</td>\n",
       "      <td>['Salary', '5000.0']</td>\n",
       "      <td>دوام كامل</td>\n",
       "      <td>0 / 3</td>\n",
       "      <td>20202026375503</td>\n",
       "      <td>0 Years</td>\n",
       "      <td>both</td>\n",
       "    </tr>\n",
       "  </tbody>\n",
       "</table>\n",
       "</div>"
      ],
      "text/plain": [
       "              job_title      job_date  \\\n",
       "867   أخصائي علاج طبيعي    05/06/1444   \n",
       "911   أخصائي علاج طبيعي  Publish date   \n",
       "1152  أخصائي علاج طبيعي    05/06/1444   \n",
       "\n",
       "                                               job_desc  \\\n",
       "867   ['دراسة وتحليل الحالة المرضية ووضع خطة وبرنامج...   \n",
       "911   ['دراسة وتحليل الحالة المرضية ووضع خطة وبرنامج...   \n",
       "1152  ['دراسة وتحليل الحالة المرضية ووضع خطة وبرنامج...   \n",
       "\n",
       "                                              job_tasks          comp_name  \\\n",
       "867   ['   دراسة وتحليل برنامج المعالجة الطبيعية الم...  مركز رضوى للحجامة   \n",
       "911   ['   دراسة وتحليل برنامج المعالجة الطبيعية الم...  مركز رضوى للحجامة   \n",
       "1152  ['   دراسة وتحليل برنامج المعالجة الطبيعية الم...  مركز رضوى للحجامة   \n",
       "\n",
       "         comp_no comp_type    comp_size  \\\n",
       "867   14-1709089       خاص  صغيرة فئة أ   \n",
       "911   14-1709089       خاص  صغيرة فئة أ   \n",
       "1152  14-1709089       خاص  صغيرة فئة ب   \n",
       "\n",
       "                                           eco_activity qualif  \\\n",
       "867   الخدمات الطبية بالمصحات المتخصصة ومراكز إعادة ...    NaN   \n",
       "911   الخدمات الطبية بالمصحات المتخصصة ومراكز إعادة ...    NaN   \n",
       "1152  الخدمات الطبية بالمصحات المتخصصة ومراكز إعادة ...    NaN   \n",
       "\n",
       "               region          city              benefits   contract  \\\n",
       "867   المدينة المنورة  YANBU AL ...  ['Salary', '5000.0']  دوام كامل   \n",
       "911   المدينة المنورة  YANBU AL ...  ['Salary', '5000.0']  دوام كامل   \n",
       "1152  المدينة المنورة  YANBU AL ...  ['Salary', '5000.0']  دوام كامل   \n",
       "\n",
       "     positions     job_post_id    exper gender  \n",
       "867      0 / 3  20202026375503  0 Years   both  \n",
       "911      0 / 3  20202026375503  0 Years   both  \n",
       "1152     0 / 3  20202026375503  0 Years   both  "
      ]
     },
     "execution_count": 64,
     "metadata": {},
     "output_type": "execute_result"
    }
   ],
   "source": [
    "job_posts[(job_posts['job_post_id']==20202026375503)]"
   ]
  },
  {
   "cell_type": "code",
   "execution_count": 66,
   "id": "35daa35b-dd3c-4945-8add-a79f24a744ae",
   "metadata": {},
   "outputs": [
    {
     "data": {
      "text/html": [
       "<div>\n",
       "<style scoped>\n",
       "    .dataframe tbody tr th:only-of-type {\n",
       "        vertical-align: middle;\n",
       "    }\n",
       "\n",
       "    .dataframe tbody tr th {\n",
       "        vertical-align: top;\n",
       "    }\n",
       "\n",
       "    .dataframe thead th {\n",
       "        text-align: right;\n",
       "    }\n",
       "</style>\n",
       "<table border=\"1\" class=\"dataframe\">\n",
       "  <thead>\n",
       "    <tr style=\"text-align: right;\">\n",
       "      <th></th>\n",
       "      <th>job_title</th>\n",
       "      <th>job_date</th>\n",
       "      <th>job_desc</th>\n",
       "      <th>job_tasks</th>\n",
       "      <th>comp_name</th>\n",
       "      <th>comp_no</th>\n",
       "      <th>comp_type</th>\n",
       "      <th>comp_size</th>\n",
       "      <th>eco_activity</th>\n",
       "      <th>qualif</th>\n",
       "      <th>region</th>\n",
       "      <th>city</th>\n",
       "      <th>benefits</th>\n",
       "      <th>contract</th>\n",
       "      <th>positions</th>\n",
       "      <th>job_post_id</th>\n",
       "      <th>exper</th>\n",
       "      <th>gender</th>\n",
       "    </tr>\n",
       "  </thead>\n",
       "  <tbody>\n",
       "    <tr>\n",
       "      <th>152</th>\n",
       "      <td>سائق سيارة</td>\n",
       "      <td>23/04/1444</td>\n",
       "      <td>['تولي مهمة قيادة السيارة بغرض القيام بالأعمال...</td>\n",
       "      <td>['نقل الحالات إلى كافة المواعيد مستشفى , نيابة...</td>\n",
       "      <td>جمعية حماية الاسرة الخيرية</td>\n",
       "      <td>9-191343</td>\n",
       "      <td>خاص</td>\n",
       "      <td>صغيرة فئة ب</td>\n",
       "      <td>مؤسسات الرفاه الاجتماعي (تحديد وتوزيع المساعدا...</td>\n",
       "      <td>NaN</td>\n",
       "      <td>الرياض</td>\n",
       "      <td>AR RIYADH...</td>\n",
       "      <td>['Salary', '4500.0']</td>\n",
       "      <td>دوام كامل</td>\n",
       "      <td>0 / 1</td>\n",
       "      <td>20202026274543</td>\n",
       "      <td>2 Years</td>\n",
       "      <td>both</td>\n",
       "    </tr>\n",
       "    <tr>\n",
       "      <th>281</th>\n",
       "      <td>سائق سيارة</td>\n",
       "      <td>23/04/1444</td>\n",
       "      <td>['تولي مهمة قيادة السيارة بغرض القيام بالأعمال...</td>\n",
       "      <td>['نقل الحالات إلى كافة المواعيد مستشفى , نيابة...</td>\n",
       "      <td>جمعية حماية الاسرة الخيرية</td>\n",
       "      <td>9-191343</td>\n",
       "      <td>خاص</td>\n",
       "      <td>صغيرة فئة ب</td>\n",
       "      <td>NaN</td>\n",
       "      <td>NaN</td>\n",
       "      <td>الرياض</td>\n",
       "      <td>AR RIYADH...</td>\n",
       "      <td>['Salary', '4500.0']</td>\n",
       "      <td>دوام كامل</td>\n",
       "      <td>0 / 1</td>\n",
       "      <td>20202026274543</td>\n",
       "      <td>2 Years</td>\n",
       "      <td>both</td>\n",
       "    </tr>\n",
       "  </tbody>\n",
       "</table>\n",
       "</div>"
      ],
      "text/plain": [
       "      job_title    job_date  \\\n",
       "152  سائق سيارة  23/04/1444   \n",
       "281  سائق سيارة  23/04/1444   \n",
       "\n",
       "                                              job_desc  \\\n",
       "152  ['تولي مهمة قيادة السيارة بغرض القيام بالأعمال...   \n",
       "281  ['تولي مهمة قيادة السيارة بغرض القيام بالأعمال...   \n",
       "\n",
       "                                             job_tasks  \\\n",
       "152  ['نقل الحالات إلى كافة المواعيد مستشفى , نيابة...   \n",
       "281  ['نقل الحالات إلى كافة المواعيد مستشفى , نيابة...   \n",
       "\n",
       "                      comp_name   comp_no comp_type    comp_size  \\\n",
       "152  جمعية حماية الاسرة الخيرية  9-191343       خاص  صغيرة فئة ب   \n",
       "281  جمعية حماية الاسرة الخيرية  9-191343       خاص  صغيرة فئة ب   \n",
       "\n",
       "                                          eco_activity qualif  region  \\\n",
       "152  مؤسسات الرفاه الاجتماعي (تحديد وتوزيع المساعدا...    NaN  الرياض   \n",
       "281                                                NaN    NaN  الرياض   \n",
       "\n",
       "             city              benefits   contract positions     job_post_id  \\\n",
       "152  AR RIYADH...  ['Salary', '4500.0']  دوام كامل     0 / 1  20202026274543   \n",
       "281  AR RIYADH...  ['Salary', '4500.0']  دوام كامل     0 / 1  20202026274543   \n",
       "\n",
       "       exper gender  \n",
       "152  2 Years   both  \n",
       "281  2 Years   both  "
      ]
     },
     "execution_count": 66,
     "metadata": {},
     "output_type": "execute_result"
    }
   ],
   "source": [
    "job_posts[(job_posts['job_post_id']==20202026274543)]"
   ]
  },
  {
   "cell_type": "code",
   "execution_count": null,
   "id": "91f5b663-3def-48c5-948b-dcbd3020cf90",
   "metadata": {},
   "outputs": [],
   "source": [
    "# According to Jadarat policy, the Job post ID can't be duplicated for different jobs, but yet there are duplicates in the dataset\n",
    "# After checking some of the duplicated rows I assume that it's usually the same job post but with some updates done  "
   ]
  },
  {
   "cell_type": "code",
   "execution_count": 66,
   "id": "04c62559-3b48-48cf-a4e9-857e2e0ff416",
   "metadata": {},
   "outputs": [],
   "source": [
    "# go to delete duplicates columns"
   ]
  },
  {
   "cell_type": "markdown",
   "id": "c7724ac2-4ea2-4cf4-a9e0-e64368f87b92",
   "metadata": {},
   "source": [
    "#### 6. Completeness: \n",
    "Ensure that no critical data is missing. This might mean checking for null values or required fields that are empty.\n",
    "\n",
    "We will start by checking the dataset for missing or null values. For this, we can use the isna() method which returns a dataframe of boolean values indicating if a field is null or not. To group all missing values by column, we can include the sum() method."
   ]
  },
  {
   "cell_type": "code",
   "execution_count": 68,
   "id": "48a4de54-a344-4b94-9908-9528c15c13f7",
   "metadata": {},
   "outputs": [
    {
     "data": {
      "text/plain": [
       "job_title         0\n",
       "job_date          0\n",
       "job_desc          0\n",
       "job_tasks         0\n",
       "comp_name         0\n",
       "comp_no           0\n",
       "comp_type         0\n",
       "comp_size        14\n",
       "eco_activity     90\n",
       "qualif          690\n",
       "region            0\n",
       "city              0\n",
       "benefits          0\n",
       "contract          0\n",
       "positions         0\n",
       "job_post_id       0\n",
       "exper             0\n",
       "gender            0\n",
       "dtype: int64"
      ]
     },
     "execution_count": 68,
     "metadata": {},
     "output_type": "execute_result"
    }
   ],
   "source": [
    "job_posts.isnull().sum()"
   ]
  },
  {
   "cell_type": "code",
   "execution_count": 68,
   "id": "abec31c4-0904-4b73-8cee-b7bc14ab1e67",
   "metadata": {},
   "outputs": [],
   "source": [
    "# go to clean them "
   ]
  },
  {
   "cell_type": "markdown",
   "id": "b40de63c-5a1d-49ed-a87e-c5229ee08bbe",
   "metadata": {},
   "source": [
    "#### 7. Check Accuracy:\n",
    "\n",
    "Verify that the data is correct and precise. This could involve comparing data samples with known sources or using validation rules.\n",
    "\n",
    "**The process includes:**\n",
    "1. Validating the appropriateness of data types for the dataset.\n",
    "2. Identifying outliers  using established validation  rule"
   ]
  },
  {
   "cell_type": "code",
   "execution_count": 80,
   "id": "68be5334-ae10-4abd-8097-3259fe5e72c8",
   "metadata": {},
   "outputs": [
    {
     "name": "stdout",
     "output_type": "stream",
     "text": [
      "<class 'pandas.core.frame.DataFrame'>\n",
      "RangeIndex: 1470 entries, 0 to 1469\n",
      "Data columns (total 18 columns):\n",
      " #   Column        Non-Null Count  Dtype \n",
      "---  ------        --------------  ----- \n",
      " 0   job_title     1470 non-null   object\n",
      " 1   job_date      1470 non-null   object\n",
      " 2   job_desc      1470 non-null   object\n",
      " 3   job_tasks     1470 non-null   object\n",
      " 4   comp_name     1470 non-null   object\n",
      " 5   comp_no       1470 non-null   object\n",
      " 6   comp_type     1470 non-null   object\n",
      " 7   comp_size     1456 non-null   object\n",
      " 8   eco_activity  1380 non-null   object\n",
      " 9   qualif        780 non-null    object\n",
      " 10  region        1470 non-null   object\n",
      " 11  city          1470 non-null   object\n",
      " 12  benefits      1470 non-null   object\n",
      " 13  contract      1470 non-null   object\n",
      " 14  positions     1470 non-null   object\n",
      " 15  job_post_id   1470 non-null   int64 \n",
      " 16  exper         1470 non-null   object\n",
      " 17  gender        1470 non-null   object\n",
      "dtypes: int64(1), object(17)\n",
      "memory usage: 206.8+ KB\n"
     ]
    }
   ],
   "source": [
    "job_posts.info()"
   ]
  },
  {
   "cell_type": "code",
   "execution_count": 33,
   "id": "2ee790ba-dcc0-45f1-b6f8-0133e913e149",
   "metadata": {},
   "outputs": [],
   "source": [
    "# go to clean them "
   ]
  },
  {
   "cell_type": "code",
   "execution_count": 3,
   "id": "c69b303a-5459-45f9-a28e-fcee45c21c05",
   "metadata": {},
   "outputs": [],
   "source": [
    "# check outliers "
   ]
  },
  {
   "cell_type": "markdown",
   "id": "4aca9d42-add6-45db-92cf-1f6dae5f277b",
   "metadata": {},
   "source": [
    "**What is an Outlier?** \n",
    "Outlier is an row/observation that appears far away and diverges from an overall pattern in a sample.\n",
    "\n",
    "**What are the types of Outliers?**\n",
    "1. Univariate: These outliers can be found when we look at distribution of a single variable\n",
    "2. Multivariate: are outliers in an n-dimensional space. In order to find them, you have to look at distributions in multi-dimensions. example (hight=100, weight=100) for a person\n",
    "\n",
    "**What causes Outliers?**\n",
    "Whenever we come across outliers, the ideal way to tackle them is to find out the reason of having these outliers. The method to deal with them would then depend on the reason of their occurrence.\n",
    "\n",
    "Let’s understand various types of outliers:\n",
    "\n",
    "1. Data Entry Errors:- Human errors such as errors caused during data collection, recording, or entry can cause outliers in data.\n",
    "2. Measurement Error: It is the most common source of outliers. This is caused when the measurement instrument used turns out to be faulty.\n",
    "3. Data Processing Error: Whenever we perform data mining, we extract data from multiple sources. It is possible that some manipulation or extraction errors may lead to outliers in the dataset.\n",
    "4. Sampling error: For instance, we have to measure the height of athletes. By mistake, we include a few basketball players in the sample. This inclusion is likely to cause outliers in the dataset.\n",
    "5. Natural Outlier: When an outlier is not artificial (due to error), it is a natural outlier. For instance: In my last assignment with one of the renowned insurance company, I noticed that the performance of top 50 financial advisors was far higher than rest of the population. Surprisingly, it was not due to any error. Hence, whenever we perform any data mining activity with advisors, we used to treat this segment separately.\n",
    "\n",
    "\n",
    "**What is the impact of Outliers on a dataset?**\n",
    "\n",
    "\n",
    "![image.png](https://www.analyticsvidhya.com/wp-content/uploads/2015/02/Outlier_31.png)\n",
    "\n",
    "\n",
    "\n",
    "**How to detect Outliers?**\n",
    "\n",
    "1. Most commonly used method to detect outliers is visualization (Univariate Graphical Analysis).\n",
    "\n",
    "We use 3 common visualization methods:\n",
    ">- Box-plot: A box plot is a method for graphically depicting groups of numerical data through their quartiles. The box extends from the Q1 to Q3 quartile values of the data, with a line at the median (Q2). The whiskers extend from the edges of the box to show the range of the data. Outlier points are those past the end of the whiskers. Box plots show robust measures of location and spread as well as providing information about symmetry and outliers.\n",
    ">\n",
    ">  \n",
    ">![image.png](https://miro.medium.com/v2/resize:fit:698/format:webp/1*VK5iHA2AB28HSZwWwUbNYg.png)\n",
    ">\n",
    ">\n",
    ">- Histogram\n",
    ">- Scatter Plot: A scatter plot is a mathematical diagram using Cartesian coordinates to display values for two variables for a set of data. The data are displayed as a collection of points, each having the value of one variable determining the position on the horizontal axis and the value of the other variable determining the position on the vertical axis. The points that are far from the population can be termed as an outlier.\n",
    ">\n",
    ">  \n",
    ">![image.png](https://miro.medium.com/v2/resize:fit:4800/format:webp/1*Ov6aH-8yIwNoUxtMFwgx4g.png)\n",
    ">\n",
    ">\n",
    "\n",
    "2. Using statistical method (Univariate Non-Graphical analysis):\n",
    ">- Any value, which is beyond the range of -1.5 x IQR to 1.5 x IQR\n",
    " \n",
    "![image.png](https://www.whatissixsigma.net/wp-content/uploads/2015/07/Box-Plot-Diagram-to-identify-Outliers-figure-1.png)\n",
    "\n",
    ">- Use capping methods. Any value which out of range of 5th and 95th percentile can be considered as outlier\n",
    ">- Data points, three or more standard deviation away from mean are considered outlier: The Z-score is the signed number of standard deviations by which the value of an observation or data point is above the mean value of what is being observed or measured. While calculating the Z-score we re-scale and center the data and look for data points that are too far from zero. These data points which are way too far from zero will be treated as the outliers. In most of the cases, a threshold of 3 or -3 is used i.e if the Z-score value is greater than or less than 3 or -3 respectively, that data point will be identified as outliers.\n",
    "> - Outlier detection is merely a special case of the examination of data for influential data points and it also depends on the business understanding\n"
   ]
  },
  {
   "cell_type": "code",
   "execution_count": 23,
   "id": "74ea6194-cc01-45d8-be38-c4543eb1714e",
   "metadata": {},
   "outputs": [],
   "source": [
    "# go to univariate graphical analysis\n",
    "# go to lesson : data visualisation 1 - chart type section\n",
    "# then go to univariate graphical analysis\n",
    "# detect outliers using graphs varbaly"
   ]
  },
  {
   "cell_type": "code",
   "execution_count": 24,
   "id": "48ecf77b-480c-4f64-9485-95be805bc357",
   "metadata": {},
   "outputs": [],
   "source": [
    "# go to lesson: statistics 1 then statistics 3\n",
    "# then go to univariate Non graphical analysis\n",
    "# detect outliers using numerical statistics "
   ]
  },
  {
   "cell_type": "code",
   "execution_count": null,
   "id": "ee200da8-62b0-492d-b118-f4d665a1fb16",
   "metadata": {},
   "outputs": [],
   "source": []
  },
  {
   "cell_type": "code",
   "execution_count": 25,
   "id": "4e66d611-6958-4860-8522-9ada7fce40b0",
   "metadata": {},
   "outputs": [],
   "source": [
    "# go to delete ouliers"
   ]
  },
  {
   "attachments": {},
   "cell_type": "markdown",
   "id": "4e886ec7-388c-414b-ada7-803c2fb1f2cb",
   "metadata": {},
   "source": [
    "## 2. Data Cleaning: \n",
    "\n",
    "Preliminary findings from data profiling can lead to cleaning the data by:\n",
    "- Handling missing values\n",
    "- Correcting errors.\n",
    "- Dealing with outliers.\n",
    "\n",
    "-------------------\n",
    "\n"
   ]
  },
  {
   "cell_type": "markdown",
   "id": "21876b48-f5ec-4970-85a9-0520d45d8841",
   "metadata": {},
   "source": [
    "### Handling missing values:"
   ]
  },
  {
   "cell_type": "markdown",
   "id": "c890d5a2-2a65-4090-9427-f89c0f011d3f",
   "metadata": {},
   "source": [
    "**Why my data has missing values?**\n",
    "They may occur at two stages:\n",
    "1. Data Extraction: It is possible that there are problems with extraction process. Errors at data extraction stage are typically easy to find and can be corrected easily as well.\n",
    "2. Data collection: These errors occur at time of data collection and are harder to correct.\n",
    "\n",
    "**Why do we need to handle the missing data?**\n",
    "To avoid:\n",
    "- Bias the conclusions.\n",
    "- Leading the business to make wrong decisions.\n",
    "\n",
    "**Which are the methods to treat missing values ?**\n",
    "1. Deletion: we delete rows where any of the variable is missing. Simplicity is one of the major advantage of this method, but this method reduces the power of model because it reduces the sample size.\n",
    "\n",
    "2. Imputation: is a method to fill in the missing values with estimated ones. This imputation is one of the most frequently used methods.\n",
    "\n",
    "    2.1. Mean/ Mode/ Median Imputation: It consists of replacing the missing data for a given attribute by the mean or median (quantitative attribute) or mode (qualitative attribute) of all known values of that variable.\n",
    "    > It can be of two types:\n",
    "    > - Generalized Imputation: In this case, we calculate the mean or median for all non missing values of that variable then replace missing value with mean or median.\n",
    "    > - Similar case Imputation: In this case, we calculate average for each group individually of non missing values then replace the missing value based on the group.\n",
    "\n",
    "    2.2. Constant Value\n",
    "   \n",
    "    2.3. Forward Filling\n",
    "   \n",
    "    2.4. Backward Filling\n",
    "\n",
    "6. Prediction Model:  Prediction model is one of the sophisticated method for handling missing data. Here, we create a predictive model to estimate values that will substitute the missing data.  In this case, we divide our data set into two sets: One set with no missing values for the variable and another one with missing values. First data set become training data set of the model while second data set with missing values is test data set and variable with missing values is treated as target variable. Next, we create a model to predict target variable based on other attributes of the training data set and populate missing values of test data set.\n",
    "\n",
    "> There are 2 drawbacks for this approach:\n",
    "> - The model estimated values are usually more well-behaved than the true values\n",
    "> - If there are no relationships with attributes in the data set and the attribute with missing values, then the model will not be precise for estimating missing values.\n",
    "\n",
    "9. KNN Imputation: In this method of imputation, the missing values of an attribute are imputed using the given number of attributes that are most similar to the attribute whose values are missing. The similarity of two attributes is determined using a distance function. It is also known to have certain advantage & disadvantages.\n",
    "\n",
    "   > **Advantages:**\n",
    "   > - k-nearest neighbour can predict both qualitative & quantitative attributes\n",
    "   > - Creation of predictive model for each attribute with missing data is not required\n",
    "   > - Attributes with multiple missing values can be easily treated\n",
    "   > - Correlation structure of the data is taken into consideration\n",
    "\n",
    "   > **Disadvantage:**\n",
    "   > - KNN algorithm is very time-consuming in analyzing large database. It searches through all the dataset looking for the most similar instances.\n",
    "   > - Choice of k-value is very critical. Higher value of k would include attributes which are significantly different from what we need whereas lower value of k implies missing out of significant attributes.\n",
    "\n",
    "--------------------\n"
   ]
  },
  {
   "cell_type": "code",
   "execution_count": null,
   "id": "57e741fb-71c1-46ad-a526-d8f0b1564dc3",
   "metadata": {},
   "outputs": [],
   "source": []
  },
  {
   "cell_type": "code",
   "execution_count": 80,
   "id": "01287962-8077-4c01-8d1d-5f8aed6cb37a",
   "metadata": {},
   "outputs": [],
   "source": [
    "# go back to 6th dimention --> Completeness"
   ]
  },
  {
   "cell_type": "markdown",
   "id": "f7cee10f-0af8-44e5-b595-8e965294daad",
   "metadata": {},
   "source": [
    "### Correcting errors\n",
    "\n",
    "-------------------"
   ]
  },
  {
   "cell_type": "code",
   "execution_count": null,
   "id": "06273b88-a169-42e8-81f5-5d71cb3f9c21",
   "metadata": {},
   "outputs": [],
   "source": []
  },
  {
   "cell_type": "code",
   "execution_count": null,
   "id": "f1d95da5-a3ba-473a-8243-aa177cadae20",
   "metadata": {},
   "outputs": [],
   "source": [
    "# go back to 7th dimension Accuracy "
   ]
  },
  {
   "cell_type": "markdown",
   "id": "5ecc7dbb-6867-44cf-8f99-1b969a80be40",
   "metadata": {},
   "source": [
    "### Dealing with outliers:"
   ]
  },
  {
   "attachments": {},
   "cell_type": "markdown",
   "id": "88347887-4bdf-48af-9486-cb8fe80c97af",
   "metadata": {},
   "source": [
    "**How to remove Outliers?**\n",
    "Most of the ways to deal with outliers are similar to the methods of missing values like deleting rows, transforming them, binning them, treat them as a separate group, imputing values and other statistical methods. Here, we will discuss the common techniques used to deal with outliers:\n",
    "\n",
    "1. Deleting rows: We delete outlier values if it is due to data entry error, data processing error or outlier rows are very small in numbers. We can also use trimming at both ends to remove outliers.\n",
    "\n",
    "2. Imputing: Like imputation of missing values, we can also impute outliers. We can use mean, median, mode imputation methods. Before imputing values, we should analyse if it is natural outlier or artificial. If it is artificial, we can go with imputing values. We can also use statistical model to predict values of outlier rows and after that we can impute it with predicted values.\n",
    "\n",
    "3. Treat separately: If there are significant number of outliers, we should treat them separately in the statistical model. One of the approach is to treat both groups as two different groups and build individual model for both groups and then combine the output.\n"
   ]
  },
  {
   "cell_type": "code",
   "execution_count": null,
   "id": "25a585f0-2b9c-42fa-bf21-cacc6aa3be3f",
   "metadata": {},
   "outputs": [],
   "source": []
  },
  {
   "cell_type": "markdown",
   "id": "98548b66-e309-4eb8-a5dc-65fe0abbf1e8",
   "metadata": {},
   "source": [
    "## 3. Univariate Analysis: \n",
    "\n",
    "This involves examining single variables to understand their characteristics (distribution, central tendency, dispersion, and shape).\n",
    "\n",
    "We calculate **numerical values** about the data that tells us about the distribution of the data. We also **draw graphs** showing visually how the data is distributed. **To answer the following questions about Features/characteristics of Data:**\n",
    "- Where is the center of the data? (location)\n",
    "- How much does the data vary? (scale)\n",
    "- What is the shape of the data? (shape)\n",
    "\n",
    "**The benefits of this analysis:**\n",
    "Statistics summary gives a high-level idea to identify whether the data has any outliers, data entry error, distribution of data such as the data is normally distributed or left/right skewed\n",
    "\n",
    "**In this step, we will explore variables one by one using following approaches:**"
   ]
  },
  {
   "cell_type": "markdown",
   "id": "d6718111-7ac2-4fff-9851-654655b62e0b",
   "metadata": {},
   "source": [
    "### 1. Univariate Graphical Analysis:\n",
    "Method to perform uni-variate analysis will depend on whether the variable type is categorical or numerical."
   ]
  },
  {
   "cell_type": "code",
   "execution_count": null,
   "id": "db79d803-b75c-4686-a623-e8420321a90f",
   "metadata": {},
   "outputs": [],
   "source": []
  },
  {
   "cell_type": "markdown",
   "id": "0d57c4b9-9bb3-494d-85dd-b8d39afda139",
   "metadata": {},
   "source": [
    "#### I. Categorical Variables:\n",
    "\n",
    "we’ll use frequency table to understand distribution of each category\n",
    "- Bar Chart (Ordinal) - Orderd\n",
    "- Pie Chart (Nominal) - non Orderd"
   ]
  },
  {
   "cell_type": "code",
   "execution_count": null,
   "id": "72ece4b7-5508-403a-8fb0-f519fc74272a",
   "metadata": {},
   "outputs": [],
   "source": []
  },
  {
   "cell_type": "markdown",
   "id": "d2641f0d-80f2-493b-99b7-15476379a1e2",
   "metadata": {},
   "source": [
    "#### II. Numerical Variables:\n",
    "\n",
    "we need to understand the central tendency and spread of the variable (Descriptive Analysis) using:\n",
    "   - Box plot\n",
    "   - Histogram"
   ]
  },
  {
   "cell_type": "code",
   "execution_count": null,
   "id": "5be16f08-a072-4a02-a3ee-6f9d57786fb4",
   "metadata": {},
   "outputs": [],
   "source": []
  },
  {
   "cell_type": "markdown",
   "id": "d66677d3-44ad-414f-9b39-f9c1995ad043",
   "metadata": {},
   "source": [
    "### 2. Univariate Non-Graphical analysis: \n",
    "\n",
    "- Where is the center of the data? (location) --> **Measures of central tendency**\n",
    "- How much does the data vary? (scale) --> **Measure of variability**\n",
    "- What is the shape of the data? (shape) --> **Measures of variation combined with an average (measure of center) gives a good picture of the distribution of the data.**"
   ]
  },
  {
   "cell_type": "code",
   "execution_count": null,
   "id": "f1058d84-e61e-4f5b-b66a-29931e77821b",
   "metadata": {},
   "outputs": [],
   "source": []
  },
  {
   "cell_type": "markdown",
   "id": "f09bb809-0edd-432b-bf23-abd0840b3e16",
   "metadata": {},
   "source": [
    "## 4. Bivariate/Multivariate Analysis:\n",
    "\n",
    "Here, you look at the relationships between two or more variables. This can involve looking for correlations, patterns, and trends that suggest a relationship or an association.\n",
    "\n",
    "We can perform bi-variate analysis for any combination of categorical and numerical variables. The combination can be:\n",
    "| bi-variate variables   | Plot type |\n",
    "| ------------- | ------------- |\n",
    "| Categorical & Categorical| Stacked Bar Chart |\n",
    "| Categorical & numerical  | scatter plot, histogram, box plot|\n",
    "| numerical  & numerical  | Scatter plot, line chart| \n",
    "\n",
    "\n",
    "Multivariate Analysis:\n",
    "- Heat map\n",
    "- Bar Chart\n",
    "- Scatter Chart\n",
    "- Line Chart"
   ]
  },
  {
   "cell_type": "markdown",
   "id": "838f2864-ce9e-4f15-99c8-052d053154a7",
   "metadata": {},
   "source": [
    "**Categorical & Categorical --> (Stacked Column Chart)**"
   ]
  },
  {
   "cell_type": "code",
   "execution_count": null,
   "id": "73f9f2ac-8477-49ea-9c68-4fe44d4395b6",
   "metadata": {},
   "outputs": [],
   "source": []
  },
  {
   "cell_type": "markdown",
   "id": "730e088f-fe13-40da-8fbb-686f5135fa4d",
   "metadata": {},
   "source": [
    "**Categorical & numerical --> (scatter plot, histogram, box plot)**"
   ]
  },
  {
   "cell_type": "code",
   "execution_count": null,
   "id": "3590e345-2051-4215-91ac-07d196b510ef",
   "metadata": {},
   "outputs": [],
   "source": []
  },
  {
   "cell_type": "markdown",
   "id": "20aed48d-b78e-46da-963f-e7f15e2f4dc7",
   "metadata": {},
   "source": [
    "**numerical & numerical --> (Scatter plot, line chart)**"
   ]
  },
  {
   "cell_type": "code",
   "execution_count": null,
   "id": "41023177-01cb-4f39-a750-12be71b13bda",
   "metadata": {},
   "outputs": [],
   "source": []
  },
  {
   "cell_type": "markdown",
   "id": "efb43b30-b1f0-48a4-a19c-195810cc8a0f",
   "metadata": {},
   "source": [
    "We could also use a correlation matrix to get more specific information about the relationship between these two variables."
   ]
  },
  {
   "cell_type": "code",
   "execution_count": null,
   "id": "8406f58f-b825-4a15-8f6e-c68ca66bd483",
   "metadata": {},
   "outputs": [],
   "source": []
  }
 ],
 "metadata": {
  "kernelspec": {
   "display_name": "Python [conda env:base] *",
   "language": "python",
   "name": "conda-base-py"
  },
  "language_info": {
   "codemirror_mode": {
    "name": "ipython",
    "version": 3
   },
   "file_extension": ".py",
   "mimetype": "text/x-python",
   "name": "python",
   "nbconvert_exporter": "python",
   "pygments_lexer": "ipython3",
   "version": "3.12.7"
  }
 },
 "nbformat": 4,
 "nbformat_minor": 5
}
